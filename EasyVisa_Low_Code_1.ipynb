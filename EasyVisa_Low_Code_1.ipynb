{
  "cells": [
    {
      "cell_type": "markdown",
      "metadata": {
        "id": "view-in-github",
        "colab_type": "text"
      },
      "source": [
        "<a href=\"https://colab.research.google.com/github/Kumchu-Elsen/Bagging-and-Random-Forest-Project---Visa-Application/blob/main/EasyVisa_Low_Code_1.ipynb\" target=\"_parent\"><img src=\"https://colab.research.google.com/assets/colab-badge.svg\" alt=\"Open In Colab\"/></a>"
      ]
    },
    {
      "cell_type": "markdown",
      "id": "yZvo8CHcetWN",
      "metadata": {
        "id": "yZvo8CHcetWN"
      },
      "source": [
        "## Problem Statement"
      ]
    },
    {
      "cell_type": "markdown",
      "id": "empty-shanghai",
      "metadata": {
        "id": "empty-shanghai"
      },
      "source": [
        "### Business Context"
      ]
    },
    {
      "cell_type": "markdown",
      "source": [
        "Business communities in the United States are facing high demand for human resources, but one of the constant challenges is identifying and attracting the right talent, which is perhaps the most important element in remaining competitive. Companies in the United States look for hard-working, talented, and qualified individuals both locally as well as abroad.\n",
        "\n",
        "The Immigration and Nationality Act (INA) of the US permits foreign workers to come to the United States to work on either a temporary or permanent basis. The act also protects US workers against adverse impacts on their wages or working conditions by ensuring US employers' compliance with statutory requirements when they hire foreign workers to fill workforce shortages. The immigration programs are administered by the Office of Foreign Labor Certification (OFLC).\n",
        "\n",
        "OFLC processes job certification applications for employers seeking to bring foreign workers into the United States and grants certifications in those cases where employers can demonstrate that there are not sufficient US workers available to perform the work at wages that meet or exceed the wage paid for the occupation in the area of intended employment."
      ],
      "metadata": {
        "id": "wJmgAFK8_aCN"
      },
      "id": "wJmgAFK8_aCN"
    },
    {
      "cell_type": "markdown",
      "source": [
        "### Objective"
      ],
      "metadata": {
        "id": "3CWyKzKYAfEp"
      },
      "id": "3CWyKzKYAfEp"
    },
    {
      "cell_type": "markdown",
      "source": [
        "In FY 2016, the OFLC processed 775,979 employer applications for 1,699,957 positions for temporary and permanent labor certifications. This was a nine percent increase in the overall number of processed applications from the previous year. The process of reviewing every case is becoming a tedious task as the number of applicants is increasing every year.\n",
        "\n",
        "The increasing number of applicants every year calls for a Machine Learning based solution that can help in shortlisting the candidates having higher chances of VISA approval. OFLC has hired the firm EasyVisa for data-driven solutions. You as a data  scientist at EasyVisa have to analyze the data provided and, with the help of a classification model:\n",
        "\n",
        "* Facilitate the process of visa approvals.\n",
        "* Recommend a suitable profile for the applicants for whom the visa should be certified or denied based on the drivers that significantly influence the case status."
      ],
      "metadata": {
        "id": "cdq4cea5Akh8"
      },
      "id": "cdq4cea5Akh8"
    },
    {
      "cell_type": "markdown",
      "source": [
        "### Data Description"
      ],
      "metadata": {
        "id": "LpNqj6EzAhxy"
      },
      "id": "LpNqj6EzAhxy"
    },
    {
      "cell_type": "markdown",
      "source": [
        "The data contains the different attributes of employee and the employer. The detailed data dictionary is given below.\n",
        "\n",
        "* case_id: ID of each visa application\n",
        "* continent: Information of continent the employee\n",
        "* education_of_employee: Information of education of the employee\n",
        "* has_job_experience: Does the employee has any job experience? Y= Yes; N = No\n",
        "* requires_job_training: Does the employee require any job training? Y = Yes; N = No\n",
        "* no_of_employees: Number of employees in the employer's company\n",
        "* yr_of_estab: Year in which the employer's company was established\n",
        "* region_of_employment: Information of foreign worker's intended region of employment in the US.\n",
        "* prevailing_wage:  Average wage paid to similarly employed workers in a specific occupation in the area of intended employment. The purpose of the prevailing wage is to ensure that the foreign worker is not underpaid compared to other workers offering the same or similar service in the same area of employment.\n",
        "* unit_of_wage: Unit of prevailing wage. Values include Hourly, Weekly, Monthly, and Yearly.\n",
        "* full_time_position: Is the position of work full-time? Y = Full Time Position; N = Part Time Position\n",
        "* case_status:  Flag indicating if the Visa was certified or denied"
      ],
      "metadata": {
        "id": "uae5fMIyAnd-"
      },
      "id": "uae5fMIyAnd-"
    },
    {
      "cell_type": "markdown",
      "source": [
        "## **Please read the instructions carefully before starting the project.**"
      ],
      "metadata": {
        "id": "EWGlpDNkrTqA"
      },
      "id": "EWGlpDNkrTqA"
    },
    {
      "cell_type": "markdown",
      "source": [
        "This is a commented Python Notebook file in which all the instructions and tasks to be performed are mentioned.\n",
        "* Blanks '_____' are provided in the notebook that\n",
        "needs to be filled with an appropriate code to get the correct result. With every '_____' blank, there is a comment that briefly describes what needs to be filled in the blank space.\n",
        "* Identify the task to be performed correctly, and only then proceed to write the required code.\n",
        "* Please run the codes in a sequential manner from the beginning to avoid any unnecessary errors.\n",
        "* Add the results/observations (wherever mentioned) derived from the analysis in the presentation and submit the same. Any mathematical or computational details which are a graded part of the project can be included in the Appendix section of the presentation."
      ],
      "metadata": {
        "id": "oIAAXUOip1Fc"
      },
      "id": "oIAAXUOip1Fc"
    },
    {
      "cell_type": "markdown",
      "id": "Lm7obbsV_RUT",
      "metadata": {
        "id": "Lm7obbsV_RUT"
      },
      "source": [
        "## Installing and Importing the necessary libraries"
      ]
    },
    {
      "cell_type": "code",
      "execution_count": null,
      "id": "6IOeGuQTMQXd",
      "metadata": {
        "id": "6IOeGuQTMQXd"
      },
      "outputs": [],
      "source": [
        "# Installing the libraries with the specified version.\n",
        "!pip install numpy==1.25.2 pandas==1.5.3 scikit-learn==1.5.2 matplotlib==3.7.1 seaborn==0.13.1 xgboost==2.0.3 -q --user"
      ]
    },
    {
      "cell_type": "markdown",
      "id": "OS2VAv465IZa",
      "metadata": {
        "id": "OS2VAv465IZa"
      },
      "source": [
        "**Note**: *After running the above cell, kindly restart the notebook kernel and run all cells sequentially from the below.*"
      ]
    },
    {
      "cell_type": "code",
      "execution_count": null,
      "id": "canadian-maple",
      "metadata": {
        "id": "canadian-maple"
      },
      "outputs": [],
      "source": [
        "import warnings\n",
        "\n",
        "warnings.filterwarnings(\"ignore\")\n",
        "\n",
        "# Libraries to help with reading and manipulating data\n",
        "import numpy as np\n",
        "import pandas as pd\n",
        "\n",
        "# Library to split data\n",
        "from sklearn.model_selection import train_test_split\n",
        "\n",
        "# To oversample and undersample data\n",
        "from imblearn.over_sampling import SMOTE\n",
        "from imblearn.under_sampling import RandomUnderSampler\n",
        "from sklearn.model_selection import train_test_split, StratifiedKFold, cross_val_score\n",
        "\n",
        "\n",
        "# libaries to help with data visualization\n",
        "import matplotlib.pyplot as plt\n",
        "import seaborn as sns\n",
        "\n",
        "# Removes the limit for the number of displayed columns\n",
        "pd.set_option(\"display.max_columns\", None)\n",
        "# Sets the limit for the number of displayed rows\n",
        "pd.set_option(\"display.max_rows\", 100)\n",
        "\n",
        "\n",
        "# Libraries different ensemble classifiers\n",
        "from sklearn.ensemble import (\n",
        "    BaggingClassifier,\n",
        "    RandomForestClassifier,\n",
        "    AdaBoostClassifier,\n",
        "    GradientBoostingClassifier\n",
        ")\n",
        "\n",
        "from xgboost import XGBClassifier\n",
        "from sklearn.tree import DecisionTreeClassifier\n",
        "\n",
        "# Libraries to get different metric scores\n",
        "from sklearn import metrics\n",
        "from sklearn.metrics import (\n",
        "    confusion_matrix,\n",
        "    accuracy_score,\n",
        "    precision_score,\n",
        "    recall_score,\n",
        "    f1_score,\n",
        ")\n",
        "\n",
        "# To tune different models\n",
        "from sklearn.model_selection import RandomizedSearchCV"
      ]
    },
    {
      "cell_type": "markdown",
      "id": "thorough-passion",
      "metadata": {
        "id": "thorough-passion"
      },
      "source": [
        "## Import Dataset"
      ]
    },
    {
      "cell_type": "code",
      "execution_count": null,
      "id": "kqF861_Ch2ea",
      "metadata": {
        "id": "kqF861_Ch2ea",
        "colab": {
          "base_uri": "https://localhost:8080/"
        },
        "outputId": "a2e33f0f-1e15-4d1f-f3f9-7bcb049c8224"
      },
      "outputs": [
        {
          "output_type": "stream",
          "name": "stdout",
          "text": [
            "Mounted at /content/drive\n"
          ]
        }
      ],
      "source": [
        "from google.colab import drive\n",
        "drive.mount('/content/drive')"
      ]
    },
    {
      "cell_type": "code",
      "source": [
        "file_path = \"/content/drive/MyDrive/AI and ML Post Graduate Program/Course 3 Advance Machine Learning Project/EasyVisa.csv\"\n",
        "visa=pd.read_csv(file_path)\n",
        "visa.head()"
      ],
      "metadata": {
        "colab": {
          "base_uri": "https://localhost:8080/",
          "height": 206
        },
        "id": "DNFA7_f8lUz7",
        "outputId": "40044217-cd5f-4748-d99e-eee664ea5b19"
      },
      "id": "DNFA7_f8lUz7",
      "execution_count": null,
      "outputs": [
        {
          "output_type": "execute_result",
          "data": {
            "text/plain": [
              "  case_id continent education_of_employee has_job_experience  \\\n",
              "0  EZYV01      Asia           High School                  N   \n",
              "1  EZYV02      Asia              Master's                  Y   \n",
              "2  EZYV03      Asia            Bachelor's                  N   \n",
              "3  EZYV04      Asia            Bachelor's                  N   \n",
              "4  EZYV05    Africa              Master's                  Y   \n",
              "\n",
              "  requires_job_training  no_of_employees  yr_of_estab region_of_employment  \\\n",
              "0                     N            14513         2007                 West   \n",
              "1                     N             2412         2002            Northeast   \n",
              "2                     Y            44444         2008                 West   \n",
              "3                     N               98         1897                 West   \n",
              "4                     N             1082         2005                South   \n",
              "\n",
              "   prevailing_wage unit_of_wage full_time_position case_status  \n",
              "0         592.2029         Hour                  Y      Denied  \n",
              "1       83425.6500         Year                  Y   Certified  \n",
              "2      122996.8600         Year                  Y      Denied  \n",
              "3       83434.0300         Year                  Y      Denied  \n",
              "4      149907.3900         Year                  Y   Certified  "
            ],
            "text/html": [
              "\n",
              "  <div id=\"df-ac3b8d5a-a83d-44e7-a562-e5dc8375004d\" class=\"colab-df-container\">\n",
              "    <div>\n",
              "<style scoped>\n",
              "    .dataframe tbody tr th:only-of-type {\n",
              "        vertical-align: middle;\n",
              "    }\n",
              "\n",
              "    .dataframe tbody tr th {\n",
              "        vertical-align: top;\n",
              "    }\n",
              "\n",
              "    .dataframe thead th {\n",
              "        text-align: right;\n",
              "    }\n",
              "</style>\n",
              "<table border=\"1\" class=\"dataframe\">\n",
              "  <thead>\n",
              "    <tr style=\"text-align: right;\">\n",
              "      <th></th>\n",
              "      <th>case_id</th>\n",
              "      <th>continent</th>\n",
              "      <th>education_of_employee</th>\n",
              "      <th>has_job_experience</th>\n",
              "      <th>requires_job_training</th>\n",
              "      <th>no_of_employees</th>\n",
              "      <th>yr_of_estab</th>\n",
              "      <th>region_of_employment</th>\n",
              "      <th>prevailing_wage</th>\n",
              "      <th>unit_of_wage</th>\n",
              "      <th>full_time_position</th>\n",
              "      <th>case_status</th>\n",
              "    </tr>\n",
              "  </thead>\n",
              "  <tbody>\n",
              "    <tr>\n",
              "      <th>0</th>\n",
              "      <td>EZYV01</td>\n",
              "      <td>Asia</td>\n",
              "      <td>High School</td>\n",
              "      <td>N</td>\n",
              "      <td>N</td>\n",
              "      <td>14513</td>\n",
              "      <td>2007</td>\n",
              "      <td>West</td>\n",
              "      <td>592.2029</td>\n",
              "      <td>Hour</td>\n",
              "      <td>Y</td>\n",
              "      <td>Denied</td>\n",
              "    </tr>\n",
              "    <tr>\n",
              "      <th>1</th>\n",
              "      <td>EZYV02</td>\n",
              "      <td>Asia</td>\n",
              "      <td>Master's</td>\n",
              "      <td>Y</td>\n",
              "      <td>N</td>\n",
              "      <td>2412</td>\n",
              "      <td>2002</td>\n",
              "      <td>Northeast</td>\n",
              "      <td>83425.6500</td>\n",
              "      <td>Year</td>\n",
              "      <td>Y</td>\n",
              "      <td>Certified</td>\n",
              "    </tr>\n",
              "    <tr>\n",
              "      <th>2</th>\n",
              "      <td>EZYV03</td>\n",
              "      <td>Asia</td>\n",
              "      <td>Bachelor's</td>\n",
              "      <td>N</td>\n",
              "      <td>Y</td>\n",
              "      <td>44444</td>\n",
              "      <td>2008</td>\n",
              "      <td>West</td>\n",
              "      <td>122996.8600</td>\n",
              "      <td>Year</td>\n",
              "      <td>Y</td>\n",
              "      <td>Denied</td>\n",
              "    </tr>\n",
              "    <tr>\n",
              "      <th>3</th>\n",
              "      <td>EZYV04</td>\n",
              "      <td>Asia</td>\n",
              "      <td>Bachelor's</td>\n",
              "      <td>N</td>\n",
              "      <td>N</td>\n",
              "      <td>98</td>\n",
              "      <td>1897</td>\n",
              "      <td>West</td>\n",
              "      <td>83434.0300</td>\n",
              "      <td>Year</td>\n",
              "      <td>Y</td>\n",
              "      <td>Denied</td>\n",
              "    </tr>\n",
              "    <tr>\n",
              "      <th>4</th>\n",
              "      <td>EZYV05</td>\n",
              "      <td>Africa</td>\n",
              "      <td>Master's</td>\n",
              "      <td>Y</td>\n",
              "      <td>N</td>\n",
              "      <td>1082</td>\n",
              "      <td>2005</td>\n",
              "      <td>South</td>\n",
              "      <td>149907.3900</td>\n",
              "      <td>Year</td>\n",
              "      <td>Y</td>\n",
              "      <td>Certified</td>\n",
              "    </tr>\n",
              "  </tbody>\n",
              "</table>\n",
              "</div>\n",
              "    <div class=\"colab-df-buttons\">\n",
              "\n",
              "  <div class=\"colab-df-container\">\n",
              "    <button class=\"colab-df-convert\" onclick=\"convertToInteractive('df-ac3b8d5a-a83d-44e7-a562-e5dc8375004d')\"\n",
              "            title=\"Convert this dataframe to an interactive table.\"\n",
              "            style=\"display:none;\">\n",
              "\n",
              "  <svg xmlns=\"http://www.w3.org/2000/svg\" height=\"24px\" viewBox=\"0 -960 960 960\">\n",
              "    <path d=\"M120-120v-720h720v720H120Zm60-500h600v-160H180v160Zm220 220h160v-160H400v160Zm0 220h160v-160H400v160ZM180-400h160v-160H180v160Zm440 0h160v-160H620v160ZM180-180h160v-160H180v160Zm440 0h160v-160H620v160Z\"/>\n",
              "  </svg>\n",
              "    </button>\n",
              "\n",
              "  <style>\n",
              "    .colab-df-container {\n",
              "      display:flex;\n",
              "      gap: 12px;\n",
              "    }\n",
              "\n",
              "    .colab-df-convert {\n",
              "      background-color: #E8F0FE;\n",
              "      border: none;\n",
              "      border-radius: 50%;\n",
              "      cursor: pointer;\n",
              "      display: none;\n",
              "      fill: #1967D2;\n",
              "      height: 32px;\n",
              "      padding: 0 0 0 0;\n",
              "      width: 32px;\n",
              "    }\n",
              "\n",
              "    .colab-df-convert:hover {\n",
              "      background-color: #E2EBFA;\n",
              "      box-shadow: 0px 1px 2px rgba(60, 64, 67, 0.3), 0px 1px 3px 1px rgba(60, 64, 67, 0.15);\n",
              "      fill: #174EA6;\n",
              "    }\n",
              "\n",
              "    .colab-df-buttons div {\n",
              "      margin-bottom: 4px;\n",
              "    }\n",
              "\n",
              "    [theme=dark] .colab-df-convert {\n",
              "      background-color: #3B4455;\n",
              "      fill: #D2E3FC;\n",
              "    }\n",
              "\n",
              "    [theme=dark] .colab-df-convert:hover {\n",
              "      background-color: #434B5C;\n",
              "      box-shadow: 0px 1px 3px 1px rgba(0, 0, 0, 0.15);\n",
              "      filter: drop-shadow(0px 1px 2px rgba(0, 0, 0, 0.3));\n",
              "      fill: #FFFFFF;\n",
              "    }\n",
              "  </style>\n",
              "\n",
              "    <script>\n",
              "      const buttonEl =\n",
              "        document.querySelector('#df-ac3b8d5a-a83d-44e7-a562-e5dc8375004d button.colab-df-convert');\n",
              "      buttonEl.style.display =\n",
              "        google.colab.kernel.accessAllowed ? 'block' : 'none';\n",
              "\n",
              "      async function convertToInteractive(key) {\n",
              "        const element = document.querySelector('#df-ac3b8d5a-a83d-44e7-a562-e5dc8375004d');\n",
              "        const dataTable =\n",
              "          await google.colab.kernel.invokeFunction('convertToInteractive',\n",
              "                                                    [key], {});\n",
              "        if (!dataTable) return;\n",
              "\n",
              "        const docLinkHtml = 'Like what you see? Visit the ' +\n",
              "          '<a target=\"_blank\" href=https://colab.research.google.com/notebooks/data_table.ipynb>data table notebook</a>'\n",
              "          + ' to learn more about interactive tables.';\n",
              "        element.innerHTML = '';\n",
              "        dataTable['output_type'] = 'display_data';\n",
              "        await google.colab.output.renderOutput(dataTable, element);\n",
              "        const docLink = document.createElement('div');\n",
              "        docLink.innerHTML = docLinkHtml;\n",
              "        element.appendChild(docLink);\n",
              "      }\n",
              "    </script>\n",
              "  </div>\n",
              "\n",
              "\n",
              "    <div id=\"df-33fdbeca-326d-43ce-8d1e-37b66df41452\">\n",
              "      <button class=\"colab-df-quickchart\" onclick=\"quickchart('df-33fdbeca-326d-43ce-8d1e-37b66df41452')\"\n",
              "                title=\"Suggest charts\"\n",
              "                style=\"display:none;\">\n",
              "\n",
              "<svg xmlns=\"http://www.w3.org/2000/svg\" height=\"24px\"viewBox=\"0 0 24 24\"\n",
              "     width=\"24px\">\n",
              "    <g>\n",
              "        <path d=\"M19 3H5c-1.1 0-2 .9-2 2v14c0 1.1.9 2 2 2h14c1.1 0 2-.9 2-2V5c0-1.1-.9-2-2-2zM9 17H7v-7h2v7zm4 0h-2V7h2v10zm4 0h-2v-4h2v4z\"/>\n",
              "    </g>\n",
              "</svg>\n",
              "      </button>\n",
              "\n",
              "<style>\n",
              "  .colab-df-quickchart {\n",
              "      --bg-color: #E8F0FE;\n",
              "      --fill-color: #1967D2;\n",
              "      --hover-bg-color: #E2EBFA;\n",
              "      --hover-fill-color: #174EA6;\n",
              "      --disabled-fill-color: #AAA;\n",
              "      --disabled-bg-color: #DDD;\n",
              "  }\n",
              "\n",
              "  [theme=dark] .colab-df-quickchart {\n",
              "      --bg-color: #3B4455;\n",
              "      --fill-color: #D2E3FC;\n",
              "      --hover-bg-color: #434B5C;\n",
              "      --hover-fill-color: #FFFFFF;\n",
              "      --disabled-bg-color: #3B4455;\n",
              "      --disabled-fill-color: #666;\n",
              "  }\n",
              "\n",
              "  .colab-df-quickchart {\n",
              "    background-color: var(--bg-color);\n",
              "    border: none;\n",
              "    border-radius: 50%;\n",
              "    cursor: pointer;\n",
              "    display: none;\n",
              "    fill: var(--fill-color);\n",
              "    height: 32px;\n",
              "    padding: 0;\n",
              "    width: 32px;\n",
              "  }\n",
              "\n",
              "  .colab-df-quickchart:hover {\n",
              "    background-color: var(--hover-bg-color);\n",
              "    box-shadow: 0 1px 2px rgba(60, 64, 67, 0.3), 0 1px 3px 1px rgba(60, 64, 67, 0.15);\n",
              "    fill: var(--button-hover-fill-color);\n",
              "  }\n",
              "\n",
              "  .colab-df-quickchart-complete:disabled,\n",
              "  .colab-df-quickchart-complete:disabled:hover {\n",
              "    background-color: var(--disabled-bg-color);\n",
              "    fill: var(--disabled-fill-color);\n",
              "    box-shadow: none;\n",
              "  }\n",
              "\n",
              "  .colab-df-spinner {\n",
              "    border: 2px solid var(--fill-color);\n",
              "    border-color: transparent;\n",
              "    border-bottom-color: var(--fill-color);\n",
              "    animation:\n",
              "      spin 1s steps(1) infinite;\n",
              "  }\n",
              "\n",
              "  @keyframes spin {\n",
              "    0% {\n",
              "      border-color: transparent;\n",
              "      border-bottom-color: var(--fill-color);\n",
              "      border-left-color: var(--fill-color);\n",
              "    }\n",
              "    20% {\n",
              "      border-color: transparent;\n",
              "      border-left-color: var(--fill-color);\n",
              "      border-top-color: var(--fill-color);\n",
              "    }\n",
              "    30% {\n",
              "      border-color: transparent;\n",
              "      border-left-color: var(--fill-color);\n",
              "      border-top-color: var(--fill-color);\n",
              "      border-right-color: var(--fill-color);\n",
              "    }\n",
              "    40% {\n",
              "      border-color: transparent;\n",
              "      border-right-color: var(--fill-color);\n",
              "      border-top-color: var(--fill-color);\n",
              "    }\n",
              "    60% {\n",
              "      border-color: transparent;\n",
              "      border-right-color: var(--fill-color);\n",
              "    }\n",
              "    80% {\n",
              "      border-color: transparent;\n",
              "      border-right-color: var(--fill-color);\n",
              "      border-bottom-color: var(--fill-color);\n",
              "    }\n",
              "    90% {\n",
              "      border-color: transparent;\n",
              "      border-bottom-color: var(--fill-color);\n",
              "    }\n",
              "  }\n",
              "</style>\n",
              "\n",
              "      <script>\n",
              "        async function quickchart(key) {\n",
              "          const quickchartButtonEl =\n",
              "            document.querySelector('#' + key + ' button');\n",
              "          quickchartButtonEl.disabled = true;  // To prevent multiple clicks.\n",
              "          quickchartButtonEl.classList.add('colab-df-spinner');\n",
              "          try {\n",
              "            const charts = await google.colab.kernel.invokeFunction(\n",
              "                'suggestCharts', [key], {});\n",
              "          } catch (error) {\n",
              "            console.error('Error during call to suggestCharts:', error);\n",
              "          }\n",
              "          quickchartButtonEl.classList.remove('colab-df-spinner');\n",
              "          quickchartButtonEl.classList.add('colab-df-quickchart-complete');\n",
              "        }\n",
              "        (() => {\n",
              "          let quickchartButtonEl =\n",
              "            document.querySelector('#df-33fdbeca-326d-43ce-8d1e-37b66df41452 button');\n",
              "          quickchartButtonEl.style.display =\n",
              "            google.colab.kernel.accessAllowed ? 'block' : 'none';\n",
              "        })();\n",
              "      </script>\n",
              "    </div>\n",
              "\n",
              "    </div>\n",
              "  </div>\n"
            ],
            "application/vnd.google.colaboratory.intrinsic+json": {
              "type": "dataframe",
              "variable_name": "visa",
              "summary": "{\n  \"name\": \"visa\",\n  \"rows\": 25480,\n  \"fields\": [\n    {\n      \"column\": \"case_id\",\n      \"properties\": {\n        \"dtype\": \"string\",\n        \"num_unique_values\": 25480,\n        \"samples\": [\n          \"EZYV16746\",\n          \"EZYV9527\",\n          \"EZYV8359\"\n        ],\n        \"semantic_type\": \"\",\n        \"description\": \"\"\n      }\n    },\n    {\n      \"column\": \"continent\",\n      \"properties\": {\n        \"dtype\": \"category\",\n        \"num_unique_values\": 6,\n        \"samples\": [\n          \"Asia\",\n          \"Africa\",\n          \"Oceania\"\n        ],\n        \"semantic_type\": \"\",\n        \"description\": \"\"\n      }\n    },\n    {\n      \"column\": \"education_of_employee\",\n      \"properties\": {\n        \"dtype\": \"category\",\n        \"num_unique_values\": 4,\n        \"samples\": [\n          \"Master's\",\n          \"Doctorate\",\n          \"High School\"\n        ],\n        \"semantic_type\": \"\",\n        \"description\": \"\"\n      }\n    },\n    {\n      \"column\": \"has_job_experience\",\n      \"properties\": {\n        \"dtype\": \"category\",\n        \"num_unique_values\": 2,\n        \"samples\": [\n          \"Y\",\n          \"N\"\n        ],\n        \"semantic_type\": \"\",\n        \"description\": \"\"\n      }\n    },\n    {\n      \"column\": \"requires_job_training\",\n      \"properties\": {\n        \"dtype\": \"category\",\n        \"num_unique_values\": 2,\n        \"samples\": [\n          \"Y\",\n          \"N\"\n        ],\n        \"semantic_type\": \"\",\n        \"description\": \"\"\n      }\n    },\n    {\n      \"column\": \"no_of_employees\",\n      \"properties\": {\n        \"dtype\": \"number\",\n        \"std\": 22877,\n        \"min\": -26,\n        \"max\": 602069,\n        \"num_unique_values\": 7105,\n        \"samples\": [\n          146713,\n          9342\n        ],\n        \"semantic_type\": \"\",\n        \"description\": \"\"\n      }\n    },\n    {\n      \"column\": \"yr_of_estab\",\n      \"properties\": {\n        \"dtype\": \"number\",\n        \"std\": 42,\n        \"min\": 1800,\n        \"max\": 2016,\n        \"num_unique_values\": 199,\n        \"samples\": [\n          1843,\n          1972\n        ],\n        \"semantic_type\": \"\",\n        \"description\": \"\"\n      }\n    },\n    {\n      \"column\": \"region_of_employment\",\n      \"properties\": {\n        \"dtype\": \"category\",\n        \"num_unique_values\": 5,\n        \"samples\": [\n          \"Northeast\",\n          \"Island\"\n        ],\n        \"semantic_type\": \"\",\n        \"description\": \"\"\n      }\n    },\n    {\n      \"column\": \"prevailing_wage\",\n      \"properties\": {\n        \"dtype\": \"number\",\n        \"std\": 52815.94232687357,\n        \"min\": 2.1367,\n        \"max\": 319210.27,\n        \"num_unique_values\": 25454,\n        \"samples\": [\n          44218.42,\n          60458.9\n        ],\n        \"semantic_type\": \"\",\n        \"description\": \"\"\n      }\n    },\n    {\n      \"column\": \"unit_of_wage\",\n      \"properties\": {\n        \"dtype\": \"category\",\n        \"num_unique_values\": 4,\n        \"samples\": [\n          \"Year\",\n          \"Month\"\n        ],\n        \"semantic_type\": \"\",\n        \"description\": \"\"\n      }\n    },\n    {\n      \"column\": \"full_time_position\",\n      \"properties\": {\n        \"dtype\": \"category\",\n        \"num_unique_values\": 2,\n        \"samples\": [\n          \"N\",\n          \"Y\"\n        ],\n        \"semantic_type\": \"\",\n        \"description\": \"\"\n      }\n    },\n    {\n      \"column\": \"case_status\",\n      \"properties\": {\n        \"dtype\": \"category\",\n        \"num_unique_values\": 2,\n        \"samples\": [\n          \"Certified\",\n          \"Denied\"\n        ],\n        \"semantic_type\": \"\",\n        \"description\": \"\"\n      }\n    }\n  ]\n}"
            }
          },
          "metadata": {},
          "execution_count": 10
        }
      ]
    },
    {
      "cell_type": "code",
      "execution_count": null,
      "id": "falling-annual",
      "metadata": {
        "id": "falling-annual"
      },
      "outputs": [],
      "source": [
        "# copying data to another variable to avoid any changes to original data\n",
        "data = visa.copy()"
      ]
    },
    {
      "cell_type": "markdown",
      "id": "mq-1s9p-_aKl",
      "metadata": {
        "id": "mq-1s9p-_aKl"
      },
      "source": [
        "## Overview of the Dataset"
      ]
    },
    {
      "cell_type": "markdown",
      "id": "aboriginal-wrist",
      "metadata": {
        "id": "aboriginal-wrist"
      },
      "source": [
        "#### View the first and last 5 rows of the dataset"
      ]
    },
    {
      "cell_type": "code",
      "execution_count": null,
      "id": "judicial-lease",
      "metadata": {
        "id": "judicial-lease"
      },
      "outputs": [],
      "source": [
        "data.('_______') ##  Complete the code to view top 5 rows of the data"
      ]
    },
    {
      "cell_type": "code",
      "execution_count": null,
      "id": "descending-david",
      "metadata": {
        "id": "descending-david"
      },
      "outputs": [],
      "source": [
        "data.('_______') ##  Complete the code to view last 5 rows of the data"
      ]
    },
    {
      "cell_type": "markdown",
      "id": "accessory-camel",
      "metadata": {
        "id": "accessory-camel"
      },
      "source": [
        "#### Understand the shape of the dataset"
      ]
    },
    {
      "cell_type": "code",
      "execution_count": null,
      "id": "regulation-elder",
      "metadata": {
        "id": "regulation-elder"
      },
      "outputs": [],
      "source": [
        "data.('_______') ##  Complete the code to view dimensions of the data"
      ]
    },
    {
      "cell_type": "markdown",
      "id": "biblical-venice",
      "metadata": {
        "id": "biblical-venice"
      },
      "source": [
        "* The dataset has 25480 rows and 12 columns"
      ]
    },
    {
      "cell_type": "markdown",
      "id": "assigned-berkeley",
      "metadata": {
        "id": "assigned-berkeley"
      },
      "source": [
        "#### Check the data types of the columns for the dataset"
      ]
    },
    {
      "cell_type": "code",
      "execution_count": null,
      "id": "judicial-institute",
      "metadata": {
        "id": "judicial-institute"
      },
      "outputs": [],
      "source": [
        "data.info()"
      ]
    },
    {
      "cell_type": "code",
      "execution_count": null,
      "id": "going-validation",
      "metadata": {
        "id": "going-validation"
      },
      "outputs": [],
      "source": [
        "# checking for duplicate values\n",
        "data.('_______') ##  Complete the code to check duplicate entries in the data"
      ]
    },
    {
      "cell_type": "markdown",
      "id": "standing-horizontal",
      "metadata": {
        "id": "standing-horizontal"
      },
      "source": [
        "## Exploratory Data Analysis (EDA)"
      ]
    },
    {
      "cell_type": "markdown",
      "id": "american-venue",
      "metadata": {
        "id": "american-venue"
      },
      "source": [
        "#### Let's check the statistical summary of the data"
      ]
    },
    {
      "cell_type": "code",
      "execution_count": null,
      "id": "premium-wagner",
      "metadata": {
        "id": "premium-wagner"
      },
      "outputs": [],
      "source": [
        "data.('_______') ##  Complete the code to print the statistical summary of the data"
      ]
    },
    {
      "cell_type": "markdown",
      "id": "competent-timing",
      "metadata": {
        "id": "competent-timing"
      },
      "source": [
        "#### Fixing the negative values in number of employees columns"
      ]
    },
    {
      "cell_type": "code",
      "execution_count": null,
      "id": "whole-saying",
      "metadata": {
        "id": "whole-saying"
      },
      "outputs": [],
      "source": [
        "data.loc['_______'].shape ## Complete the code to check negative values in the employee column"
      ]
    },
    {
      "cell_type": "code",
      "execution_count": null,
      "id": "prescription-bosnia",
      "metadata": {
        "id": "prescription-bosnia"
      },
      "outputs": [],
      "source": [
        "# taking the absolute values for number of employees\n",
        "data[\"no_of_employees\"] = '_______'(data[\"no_of_employees\"]) ## Write the function to convert the values to a positive number"
      ]
    },
    {
      "cell_type": "markdown",
      "id": "cutting-bookmark",
      "metadata": {
        "id": "cutting-bookmark"
      },
      "source": [
        "#### Let's check the count of each unique category in each of the categorical variables"
      ]
    },
    {
      "cell_type": "code",
      "execution_count": null,
      "id": "minute-helmet",
      "metadata": {
        "id": "minute-helmet"
      },
      "outputs": [],
      "source": [
        "# Making a list of all catrgorical variables\n",
        "cat_col = list(data.select_dtypes(\"object\").columns)\n",
        "\n",
        "# Printing number of count of each unique value in each column\n",
        "for column in cat_col:\n",
        "    print(data[column].value_counts())\n",
        "    print(\"-\" * 50)"
      ]
    },
    {
      "cell_type": "code",
      "execution_count": null,
      "id": "occupied-classroom",
      "metadata": {
        "id": "occupied-classroom"
      },
      "outputs": [],
      "source": [
        "# checking the number of unique values\n",
        "data[\"case_id\"].'_______' ## Complete the code to check unique values in the mentioned column"
      ]
    },
    {
      "cell_type": "code",
      "execution_count": null,
      "id": "existing-sociology",
      "metadata": {
        "id": "existing-sociology"
      },
      "outputs": [],
      "source": [
        "data.drop([\"________\"], axis=1, inplace=True) ## Complete the code to drop 'case_id' column from the data"
      ]
    },
    {
      "cell_type": "markdown",
      "id": "wooden-christian",
      "metadata": {
        "id": "wooden-christian"
      },
      "source": [
        "### Univariate Analysis"
      ]
    },
    {
      "cell_type": "code",
      "execution_count": null,
      "id": "superb-springfield",
      "metadata": {
        "id": "superb-springfield"
      },
      "outputs": [],
      "source": [
        "def histogram_boxplot(data, feature, figsize=(15, 10), kde=False, bins=None):\n",
        "    \"\"\"\n",
        "    Boxplot and histogram combined\n",
        "\n",
        "    data: dataframe\n",
        "    feature: dataframe column\n",
        "    figsize: size of figure (default (15,10))\n",
        "    kde: whether to show the density curve (default False)\n",
        "    bins: number of bins for histogram (default None)\n",
        "    \"\"\"\n",
        "    f2, (ax_box2, ax_hist2) = plt.subplots(\n",
        "        nrows=2,  # Number of rows of the subplot grid= 2\n",
        "        sharex=True,  # x-axis will be shared among all subplots\n",
        "        gridspec_kw={\"height_ratios\": (0.25, 0.75)},\n",
        "        figsize=figsize,\n",
        "    )  # creating the 2 subplots\n",
        "    sns.boxplot(\n",
        "        data=data, x=feature, ax=ax_box2, showmeans=True, color=\"violet\"\n",
        "    )  # boxplot will be created and a triangle will indicate the mean value of the column\n",
        "    sns.histplot(\n",
        "        data=data, x=feature, kde=kde, ax=ax_hist2, bins=bins\n",
        "    ) if bins else sns.histplot(\n",
        "        data=data, x=feature, kde=kde, ax=ax_hist2\n",
        "    )  # For histogram\n",
        "    ax_hist2.axvline(\n",
        "        data[feature].mean(), color=\"green\", linestyle=\"--\"\n",
        "    )  # Add mean to the histogram\n",
        "    ax_hist2.axvline(\n",
        "        data[feature].median(), color=\"black\", linestyle=\"-\"\n",
        "    )  # Add median to the histogram"
      ]
    },
    {
      "cell_type": "code",
      "execution_count": null,
      "id": "R59VWoa5Wdbx",
      "metadata": {
        "id": "R59VWoa5Wdbx"
      },
      "outputs": [],
      "source": [
        "# function to create labeled barplots\n",
        "\n",
        "\n",
        "def labeled_barplot(data, feature, perc=False, n=None):\n",
        "    \"\"\"\n",
        "    Barplot with percentage at the top\n",
        "\n",
        "    data: dataframe\n",
        "    feature: dataframe column\n",
        "    perc: whether to display percentages instead of count (default is False)\n",
        "    n: displays the top n category levels (default is None, i.e., display all levels)\n",
        "    \"\"\"\n",
        "\n",
        "    total = len(data[feature])  # length of the column\n",
        "    count = data[feature].nunique()\n",
        "    if n is None:\n",
        "        plt.figure(figsize=(count + 1, 5))\n",
        "    else:\n",
        "        plt.figure(figsize=(n + 1, 5))\n",
        "\n",
        "    plt.xticks(rotation=90, fontsize=15)\n",
        "    ax = sns.countplot(\n",
        "        data=data,\n",
        "        x=feature,\n",
        "        palette=\"Paired\",\n",
        "        order=data[feature].value_counts().index[:n].sort_values(),\n",
        "    )\n",
        "\n",
        "    for p in ax.patches:\n",
        "        if perc == True:\n",
        "            label = \"{:.1f}%\".format(\n",
        "                100 * p.get_height() / total\n",
        "            )  # percentage of each class of the category\n",
        "        else:\n",
        "            label = p.get_height()  # count of each level of the category\n",
        "\n",
        "        x = p.get_x() + p.get_width() / 2  # width of the plot\n",
        "        y = p.get_height()  # height of the plot\n",
        "\n",
        "        ax.annotate(\n",
        "            label,\n",
        "            (x, y),\n",
        "            ha=\"center\",\n",
        "            va=\"center\",\n",
        "            size=12,\n",
        "            xytext=(0, 5),\n",
        "            textcoords=\"offset points\",\n",
        "        )  # annotate the percentage\n",
        "\n",
        "    plt.show()  # show the plot"
      ]
    },
    {
      "cell_type": "markdown",
      "id": "editorial-command",
      "metadata": {
        "id": "editorial-command"
      },
      "source": [
        "#### Observations on education of employee"
      ]
    },
    {
      "cell_type": "code",
      "execution_count": null,
      "id": "express-harrison",
      "metadata": {
        "id": "express-harrison"
      },
      "outputs": [],
      "source": [
        "labeled_barplot(data, \"education_of_employee\", perc=True)"
      ]
    },
    {
      "cell_type": "markdown",
      "id": "attempted-burlington",
      "metadata": {
        "id": "attempted-burlington"
      },
      "source": [
        "#### Observations on region of employment"
      ]
    },
    {
      "cell_type": "code",
      "execution_count": null,
      "id": "suited-tuner",
      "metadata": {
        "id": "suited-tuner"
      },
      "outputs": [],
      "source": [
        "labeled_barplot('_____')  ## Complete the code to create labeled_barplot for region of employment"
      ]
    },
    {
      "cell_type": "markdown",
      "id": "forbidden-kidney",
      "metadata": {
        "id": "forbidden-kidney"
      },
      "source": [
        "#### Observations on job experience"
      ]
    },
    {
      "cell_type": "code",
      "execution_count": null,
      "id": "exterior-rings",
      "metadata": {
        "id": "exterior-rings"
      },
      "outputs": [],
      "source": [
        "labeled_barplot('_____') ## Complete the code to create labeled_barplot for job experience"
      ]
    },
    {
      "cell_type": "markdown",
      "id": "stunning-surrey",
      "metadata": {
        "id": "stunning-surrey"
      },
      "source": [
        "#### Observations on case status"
      ]
    },
    {
      "cell_type": "code",
      "execution_count": null,
      "id": "potential-stroke",
      "metadata": {
        "id": "potential-stroke"
      },
      "outputs": [],
      "source": [
        "labeled_barplot('_____') ## Complete the code to create labeled_barplot for case status"
      ]
    },
    {
      "cell_type": "markdown",
      "id": "equivalent-aging",
      "metadata": {
        "id": "equivalent-aging"
      },
      "source": [
        "### Bivariate Analysis"
      ]
    },
    {
      "cell_type": "code",
      "execution_count": null,
      "id": "social-wagner",
      "metadata": {
        "id": "social-wagner"
      },
      "outputs": [],
      "source": [
        "cols_list = data.select_dtypes(include=np.number).columns.tolist()\n",
        "\n",
        "plt.figure(figsize=(10, 5))\n",
        "sns.heatmap(\n",
        "    data[cols_list]._____, annot=True, vmin=-1, vmax=1, fmt=\".2f\", cmap=\"Spectral\"\n",
        ") ## Complete the code to find the correlation between the variables\n",
        "plt.show()"
      ]
    },
    {
      "cell_type": "markdown",
      "id": "blond-convertible",
      "metadata": {
        "id": "blond-convertible"
      },
      "source": [
        "**Creating functions that will help us with further analysis.**"
      ]
    },
    {
      "cell_type": "code",
      "execution_count": null,
      "id": "adaptive-recipient",
      "metadata": {
        "id": "adaptive-recipient"
      },
      "outputs": [],
      "source": [
        "### function to plot distributions wrt target\n",
        "\n",
        "\n",
        "def distribution_plot_wrt_target(data, predictor, target):\n",
        "\n",
        "    fig, axs = plt.subplots(2, 2, figsize=(12, 10))\n",
        "\n",
        "    target_uniq = data[target].unique()\n",
        "\n",
        "    axs[0, 0].set_title(\"Distribution of target for target=\" + str(target_uniq[0]))\n",
        "    sns.histplot(\n",
        "        data=data[data[target] == target_uniq[0]],\n",
        "        x=predictor,\n",
        "        kde=True,\n",
        "        ax=axs[0, 0],\n",
        "        color=\"teal\",\n",
        "        stat=\"density\",\n",
        "    )\n",
        "\n",
        "    axs[0, 1].set_title(\"Distribution of target for target=\" + str(target_uniq[1]))\n",
        "    sns.histplot(\n",
        "        data=data[data[target] == target_uniq[1]],\n",
        "        x=predictor,\n",
        "        kde=True,\n",
        "        ax=axs[0, 1],\n",
        "        color=\"orange\",\n",
        "        stat=\"density\",\n",
        "    )\n",
        "\n",
        "    axs[1, 0].set_title(\"Boxplot w.r.t target\")\n",
        "    sns.boxplot(data=data, x=target, y=predictor, ax=axs[1, 0], palette=\"gist_rainbow\")\n",
        "\n",
        "    axs[1, 1].set_title(\"Boxplot (without outliers) w.r.t target\")\n",
        "    sns.boxplot(\n",
        "        data=data,\n",
        "        x=target,\n",
        "        y=predictor,\n",
        "        ax=axs[1, 1],\n",
        "        showfliers=False,\n",
        "        palette=\"gist_rainbow\",\n",
        "    )\n",
        "\n",
        "    plt.tight_layout()\n",
        "    plt.show()"
      ]
    },
    {
      "cell_type": "code",
      "execution_count": null,
      "id": "third-sheriff",
      "metadata": {
        "id": "third-sheriff"
      },
      "outputs": [],
      "source": [
        "def stacked_barplot(data, predictor, target):\n",
        "    \"\"\"\n",
        "    Print the category counts and plot a stacked bar chart\n",
        "\n",
        "    data: dataframe\n",
        "    predictor: independent variable\n",
        "    target: target variable\n",
        "    \"\"\"\n",
        "    count = data[predictor].nunique()\n",
        "    sorter = data[target].value_counts().index[-1]\n",
        "    tab1 = pd.crosstab(data[predictor], data[target], margins=True).sort_values(\n",
        "        by=sorter, ascending=False\n",
        "    )\n",
        "    print(tab1)\n",
        "    print(\"-\" * 120)\n",
        "    tab = pd.crosstab(data[predictor], data[target], normalize=\"index\").sort_values(\n",
        "        by=sorter, ascending=False\n",
        "    )\n",
        "    tab.plot(kind=\"bar\", stacked=True, figsize=(count + 5, 5))\n",
        "    plt.legend(\n",
        "        loc=\"lower left\", frameon=False,\n",
        "    )\n",
        "    plt.legend(loc=\"upper left\", bbox_to_anchor=(1, 1))\n",
        "    plt.show()"
      ]
    },
    {
      "cell_type": "markdown",
      "id": "dressed-excuse",
      "metadata": {
        "id": "dressed-excuse"
      },
      "source": [
        "#### Those with higher education may want to travel abroad for a well-paid job. Let's find out if education has any impact on visa certification"
      ]
    },
    {
      "cell_type": "code",
      "execution_count": null,
      "id": "special-florist",
      "metadata": {
        "id": "special-florist"
      },
      "outputs": [],
      "source": [
        "stacked_barplot(data, \"education_of_employee\", \"case_status\")"
      ]
    },
    {
      "cell_type": "markdown",
      "id": "attended-current",
      "metadata": {
        "id": "attended-current"
      },
      "source": [
        "#### Lets' similarly check for the continents and find out how the visa status vary across different continents."
      ]
    },
    {
      "cell_type": "code",
      "execution_count": null,
      "id": "alive-bloom",
      "metadata": {
        "id": "alive-bloom"
      },
      "outputs": [],
      "source": [
        "stacked_barplot('_____') ## Complete the code to plot stacked barplot for region of continent and case status"
      ]
    },
    {
      "cell_type": "markdown",
      "id": "macro-decrease",
      "metadata": {
        "id": "macro-decrease"
      },
      "source": [
        "#### Experienced professionals might look abroad for opportunities to improve their lifestyles and career development. Let's see if having work experience has any influence over visa certification"
      ]
    },
    {
      "cell_type": "code",
      "execution_count": null,
      "id": "divine-dimension",
      "metadata": {
        "id": "divine-dimension"
      },
      "outputs": [],
      "source": [
        "stacked_barplot('_____') ## Complete the code to plot stacked barplot for region of case_status and has_job_experience"
      ]
    },
    {
      "cell_type": "markdown",
      "id": "changing-kansas",
      "metadata": {
        "id": "changing-kansas"
      },
      "source": [
        "#### Checking if the prevailing wage is similar across all the regions of the US"
      ]
    },
    {
      "cell_type": "code",
      "execution_count": null,
      "id": "dangerous-pride",
      "metadata": {
        "id": "dangerous-pride"
      },
      "outputs": [],
      "source": [
        "plt.figure(figsize=(10, 5))\n",
        "sns.'_______' ## Complete the code to create boxplot for region of employment and prevailing wage\n",
        "plt.show()"
      ]
    },
    {
      "cell_type": "markdown",
      "id": "lesser-bacteria",
      "metadata": {
        "id": "lesser-bacteria"
      },
      "source": [
        "#### The US government has established a prevailing wage to protect local talent and foreign workers. Let's analyze the data and see if the visa status changes with the prevailing wage"
      ]
    },
    {
      "cell_type": "code",
      "execution_count": null,
      "id": "perfect-haiti",
      "metadata": {
        "id": "perfect-haiti"
      },
      "outputs": [],
      "source": [
        "distribution_plot_wrt_target('_______') ## Complete the code to find distribution of prevailing wage and case status"
      ]
    },
    {
      "cell_type": "markdown",
      "id": "suspected-asthma",
      "metadata": {
        "id": "suspected-asthma"
      },
      "source": [
        "#### The prevailing wage has different units (Hourly, Weekly, etc). Let's find out if it has any impact on visa applications getting certified."
      ]
    },
    {
      "cell_type": "code",
      "execution_count": null,
      "id": "impossible-aquatic",
      "metadata": {
        "id": "impossible-aquatic"
      },
      "outputs": [],
      "source": [
        "stacked_barplot('_______') ## Complete the code to plot stacked barplot for unit of wage and case status"
      ]
    },
    {
      "cell_type": "markdown",
      "id": "qBWlk20UBUAx",
      "metadata": {
        "id": "qBWlk20UBUAx"
      },
      "source": [
        "## Data Pre-processing"
      ]
    },
    {
      "cell_type": "markdown",
      "id": "allied-association",
      "metadata": {
        "id": "allied-association"
      },
      "source": [
        "### Outlier Check\n",
        "\n",
        "- Let's check for outliers in the data."
      ]
    },
    {
      "cell_type": "code",
      "execution_count": null,
      "id": "certified-complaint",
      "metadata": {
        "id": "certified-complaint"
      },
      "outputs": [],
      "source": [
        "# outlier detection using boxplot\n",
        "numeric_columns = data.select_dtypes(include=np.number).columns.tolist()\n",
        "\n",
        "\n",
        "plt.figure(figsize=(15, 12))\n",
        "\n",
        "for i, variable in enumerate(numeric_columns):\n",
        "    plt.subplot(4, 4, i + 1)\n",
        "    plt.boxplot(data[variable], whis=1.5)\n",
        "    plt.tight_layout()\n",
        "    plt.title(variable)\n",
        "\n",
        "plt.show()"
      ]
    },
    {
      "cell_type": "markdown",
      "id": "flexible-independence",
      "metadata": {
        "id": "flexible-independence"
      },
      "source": [
        "### Data Preparation for modeling\n",
        "\n",
        "- We want to predict which visa will be certified.\n",
        "- Before we proceed to build a model, we'll have to encode categorical features.\n",
        "- We'll split the data into train and test to be able to evaluate the model that we build on the train data."
      ]
    },
    {
      "cell_type": "code",
      "execution_count": null,
      "id": "genuine-evening",
      "metadata": {
        "id": "genuine-evening"
      },
      "outputs": [],
      "source": [
        "data[\"case_status\"] = data[\"case_status\"].apply(lambda x: 1 if x == \"Certified\" else 0)\n",
        "\n",
        "X = data._______ ## Complete the code to drop case status from the data\n",
        "y = data[\"case_status\"]\n",
        "\n",
        "\n",
        "X = pd._______  ## Complete the code to create dummies for X\n",
        "\n",
        "# Complete the code to split the dataset into train and valid with a ratio of 7:3\n",
        "X_train, X_val, y_train, y_val = train_test_split(\n",
        "    X, y, test_size=______, random_state=1, stratify=y\n",
        ")\n",
        "\n",
        "# # Complete the code to split the dataset into valid and test with a ratio of 9:1\n",
        "X_val,X_test,y_val,y_test = train_test_split(\n",
        "    X_val,y_val,test_size=_____,random_state=1,stratify=y_val\n",
        ")\n"
      ]
    },
    {
      "cell_type": "code",
      "execution_count": null,
      "id": "empty-typing",
      "metadata": {
        "id": "empty-typing"
      },
      "outputs": [],
      "source": [
        "print(\"Shape of Training set : \", X_train.shape)\n",
        "print(\"Shape of Validation set : \", X_val.shape)\n",
        "print(\"Shape of test set : \", X_test.shape)\n",
        "print(\"Percentage of classes in training set:\")\n",
        "print(y_train.value_counts(normalize=True))\n",
        "print(\"Percentage of classes in validation set:\")\n",
        "print(y_val.value_counts(normalize=True))\n",
        "print(\"Percentage of classes in test set:\")\n",
        "print(y_test.value_counts(normalize=True))"
      ]
    },
    {
      "cell_type": "markdown",
      "id": "dr7q6-dbfiQB",
      "metadata": {
        "id": "dr7q6-dbfiQB"
      },
      "source": [
        "## Model Building"
      ]
    },
    {
      "cell_type": "markdown",
      "id": "rrlw9AVcqk37",
      "metadata": {
        "id": "rrlw9AVcqk37"
      },
      "source": [
        "### Model Evaluation Criterion"
      ]
    },
    {
      "cell_type": "markdown",
      "source": [
        "Provide some reasoning for choosing the metric here : ______"
      ],
      "metadata": {
        "id": "p-08ovKQIx0D"
      },
      "id": "p-08ovKQIx0D"
    },
    {
      "cell_type": "markdown",
      "id": "capital-charlotte",
      "metadata": {
        "id": "capital-charlotte"
      },
      "source": [
        "First, let's create functions to calculate different metrics and confusion matrix so that we don't have to use the same code repeatedly for each model.\n",
        "* The model_performance_classification_sklearn function will be used to check the model performance of models.\n",
        "* The confusion_matrix_sklearn function will be used to plot the confusion matrix."
      ]
    },
    {
      "cell_type": "code",
      "execution_count": null,
      "id": "mexican-database",
      "metadata": {
        "id": "mexican-database"
      },
      "outputs": [],
      "source": [
        "# defining a function to compute different metrics to check performance of a classification model built using sklearn\n",
        "\n",
        "\n",
        "def model_performance_classification_sklearn(model, predictors, target):\n",
        "    \"\"\"\n",
        "    Function to compute different metrics to check classification model performance\n",
        "\n",
        "    model: classifier\n",
        "    predictors: independent variables\n",
        "    target: dependent variable\n",
        "    \"\"\"\n",
        "\n",
        "    # predicting using the independent variables\n",
        "    pred = model.predict(predictors)\n",
        "\n",
        "    acc = accuracy_score(target, pred)  # to compute Accuracy\n",
        "    recall = recall_score(target, pred)  # to compute Recall\n",
        "    precision = precision_score(target, pred)  # to compute Precision\n",
        "    f1 = f1_score(target, pred)  # to compute F1-score\n",
        "\n",
        "    # creating a dataframe of metrics\n",
        "    df_perf = pd.DataFrame(\n",
        "        {\"Accuracy\": acc, \"Recall\": recall, \"Precision\": precision, \"F1\": f1,},\n",
        "        index=[0],\n",
        "    )\n",
        "\n",
        "    return df_perf"
      ]
    },
    {
      "cell_type": "code",
      "execution_count": null,
      "id": "recreational-topic",
      "metadata": {
        "id": "recreational-topic"
      },
      "outputs": [],
      "source": [
        "def confusion_matrix_sklearn(model, predictors, target):\n",
        "    \"\"\"\n",
        "    To plot the confusion_matrix with percentages\n",
        "\n",
        "    model: classifier\n",
        "    predictors: independent variables\n",
        "    target: dependent variable\n",
        "    \"\"\"\n",
        "    y_pred = model.predict(predictors)\n",
        "    cm = confusion_matrix(target, y_pred)\n",
        "    labels = np.asarray(\n",
        "        [\n",
        "            [\"{0:0.0f}\".format(item) + \"\\n{0:.2%}\".format(item / cm.flatten().sum())]\n",
        "            for item in cm.flatten()\n",
        "        ]\n",
        "    ).reshape(2, 2)\n",
        "\n",
        "    plt.figure(figsize=(6, 4))\n",
        "    sns.heatmap(cm, annot=labels, fmt=\"\")\n",
        "    plt.ylabel(\"True label\")\n",
        "    plt.xlabel(\"Predicted label\")"
      ]
    },
    {
      "cell_type": "markdown",
      "id": "0QZZoxoDcoDm",
      "metadata": {
        "id": "0QZZoxoDcoDm"
      },
      "source": [
        "#### Defining scorer to be used for cross-validation and hyperparameter tuning"
      ]
    },
    {
      "cell_type": "code",
      "execution_count": null,
      "id": "fTqBmDuPm0hj",
      "metadata": {
        "id": "fTqBmDuPm0hj"
      },
      "outputs": [],
      "source": [
        "scorer = metrics.make_scorer(metrics._____) ## Complete the code to define the metric\n",
        "\n",
        "## Possible metrics are [recall_score,f1_score,accuracy_score,precision_score]\n",
        "## For example, metrics.precision_score"
      ]
    },
    {
      "cell_type": "markdown",
      "id": "XWoHuUpjbp0_",
      "metadata": {
        "id": "XWoHuUpjbp0_"
      },
      "source": [
        "**We are now done with pre-processing and evaluation criterion, so let's start building the model.**"
      ]
    },
    {
      "cell_type": "markdown",
      "id": "4fI98GOV0pTY",
      "metadata": {
        "id": "4fI98GOV0pTY"
      },
      "source": [
        "### Model building with original data"
      ]
    },
    {
      "cell_type": "code",
      "execution_count": null,
      "id": "-OTOG3o1bp0_",
      "metadata": {
        "id": "-OTOG3o1bp0_",
        "scrolled": true
      },
      "outputs": [],
      "source": [
        "models = []  # Empty list to store all the models\n",
        "\n",
        "# Appending models into the list\n",
        "models.append((\"Bagging\", BaggingClassifier(random_state=1)))\n",
        "models.append((\"Random forest\",'_____')) ## Complete the code to add Random Forest Classifier with random_state of 1.\n",
        "models.append((\"GBM\", '_____')) ## Complete the code to add Gradient Boosting Classifier with random_state of 1.\n",
        "models.append((\"Adaboost\", '_____')) ## Complete the code to add AdaBoost Classifier with random_state of 1.\n",
        "models.append((\"Xgboost\", XGBClassifier(random_state=1, eval_metric=\"logloss\")))\n",
        "models.append((\"dtree\", '_____')) ## Complete the code to add Decision Tree Classifier with random_state of 1.\n",
        "\n",
        "results1 = []  # Empty list to store all model's CV scores\n",
        "names = []  # Empty list to store name of the models\n",
        "\n",
        "\n",
        "# loop through all models to get the mean cross validated score\n",
        "print(\"\\n\" \"Cross-Validation performance on training dataset:\" \"\\n\")\n",
        "\n",
        "for name, model in models:\n",
        "    kfold = StratifiedKFold(\n",
        "        n_splits=_____, shuffle=True, random_state=1\n",
        "    )  # Complete the code to set the number of splits.\n",
        "    cv_result = cross_val_score(\n",
        "        estimator=model, X=X_train, y=y_train, scoring = scorer,cv=kfold\n",
        "    )\n",
        "    results1.append(cv_result)\n",
        "    names.append(name)\n",
        "    print(\"{}: {}\".format(name, cv_result.mean()))\n",
        "\n",
        "print(\"\\n\" \"Validation Performance:\" \"\\n\")\n",
        "\n",
        "for name, model in models:\n",
        "    model.fit(_____,_____) ## Complete the code to fit the model on X_train and y_train\n",
        "    scores = _____(y_val, model.predict(X_val)) ## Complete the code to define the metric function name.\n",
        "    print(\"{}: {}\".format(name, scores))"
      ]
    },
    {
      "cell_type": "code",
      "execution_count": null,
      "id": "Cm61fR_mbp0_",
      "metadata": {
        "id": "Cm61fR_mbp0_",
        "scrolled": false
      },
      "outputs": [],
      "source": [
        "# Plotting boxplots for CV scores of all models defined above\n",
        "fig = plt.figure(figsize=(10, 7))\n",
        "\n",
        "fig.suptitle(\"Algorithm Comparison\")\n",
        "ax = fig.add_subplot(111)\n",
        "\n",
        "plt.boxplot(results1)\n",
        "ax.set_xticklabels(names)\n",
        "\n",
        "plt.show()"
      ]
    },
    {
      "cell_type": "markdown",
      "id": "C91_6Swtbp1A",
      "metadata": {
        "id": "C91_6Swtbp1A"
      },
      "source": [
        "### Model Building with oversampled data"
      ]
    },
    {
      "cell_type": "code",
      "execution_count": null,
      "id": "o2dEk01hbp1A",
      "metadata": {
        "id": "o2dEk01hbp1A"
      },
      "outputs": [],
      "source": [
        "print(\"Before OverSampling, counts of label '1': {}\".format(sum(y_train == 1)))\n",
        "print(\"Before OverSampling, counts of label '0': {} \\n\".format(sum(y_train == 0)))\n",
        "\n",
        "# Synthetic Minority Over Sampling Technique\n",
        "sm = SMOTE(sampling_strategy=_____, k_neighbors=_____, random_state=1) ## Complete the code to set the k-nearest neighbors and sampling strategy\n",
        "X_train_over, y_train_over = sm.fit_resample(X_train, y_train)\n",
        "\n",
        "\n",
        "print(\"After OverSampling, counts of label '1': {}\".format(sum(y_train_over == 1)))\n",
        "print(\"After OverSampling, counts of label '0': {} \\n\".format(sum(y_train_over == 0)))\n",
        "\n",
        "\n",
        "print(\"After OverSampling, the shape of train_X: {}\".format(X_train_over.shape))\n",
        "print(\"After OverSampling, the shape of train_y: {} \\n\".format(y_train_over.shape))"
      ]
    },
    {
      "cell_type": "code",
      "execution_count": null,
      "id": "ZsOer36qbp1A",
      "metadata": {
        "id": "ZsOer36qbp1A"
      },
      "outputs": [],
      "source": [
        "models = []  # Empty list to store all the models\n",
        "\n",
        "# Appending models into the list\n",
        "models.append((\"Bagging\", BaggingClassifier(random_state=1)))\n",
        "models.append((\"Random forest\",'_____')) ## Complete the code to add Random Forest Classifier with random_state of 1.\n",
        "models.append((\"GBM\", '_____')) ## Complete the code to add Gradient Boosting Classifier with random_state of 1.\n",
        "models.append((\"Adaboost\", '_____')) ## Complete the code to add AdaBoost Classifier with random_state of 1.\n",
        "models.append((\"Xgboost\", XGBClassifier(random_state=1, eval_metric=\"logloss\")))\n",
        "models.append((\"dtree\", '_____')) ## Complete the code to add Decision Tree Classifier with random_state of 1.\n",
        "\n",
        "results1 = []  # Empty list to store all model's CV scores\n",
        "names = []  # Empty list to store name of the models\n",
        "\n",
        "\n",
        "# loop through all models to get the mean cross validated score\n",
        "print(\"\\n\" \"Cross-Validation performance on training dataset:\" \"\\n\")\n",
        "\n",
        "for name, model in models:\n",
        "    kfold = StratifiedKFold(\n",
        "        n_splits=_____, shuffle=True, random_state=1\n",
        "    )  ## Complete the code to set the number of splits\n",
        "    cv_result = cross_val_score(\n",
        "        estimator=model, X=X_train_over, y=y_train_over,scoring = scorer, cv=kfold\n",
        "    )\n",
        "    results1.append(cv_result)\n",
        "    names.append(name)\n",
        "    print(\"{}: {}\".format(name, cv_result.mean()))\n",
        "\n",
        "print(\"\\n\" \"Validation Performance:\" \"\\n\")\n",
        "\n",
        "for name, model in models:\n",
        "    model.fit(_____,_____) ## Complete the code to fit the model on the oversampled data.\n",
        "    scores = _____(y_val, model.predict(X_val)) ## Complete the code to define the metric function name.\n",
        "    print(\"{}: {}\".format(name, scores))"
      ]
    },
    {
      "cell_type": "code",
      "execution_count": null,
      "id": "kwUcBORjbp1A",
      "metadata": {
        "id": "kwUcBORjbp1A",
        "scrolled": false
      },
      "outputs": [],
      "source": [
        "# Plotting boxplots for CV scores of all models defined above\n",
        "fig = plt.figure(figsize=(10, 7))\n",
        "\n",
        "fig.suptitle(\"Algorithm Comparison\")\n",
        "ax = fig.add_subplot(111)\n",
        "\n",
        "plt.boxplot(results1)\n",
        "ax.set_xticklabels(names)\n",
        "\n",
        "plt.show()"
      ]
    },
    {
      "cell_type": "markdown",
      "id": "fYLfDmHvbp1B",
      "metadata": {
        "id": "fYLfDmHvbp1B"
      },
      "source": [
        "### Model Building with undersampled data"
      ]
    },
    {
      "cell_type": "code",
      "execution_count": null,
      "id": "PHM-5g8Qbp1B",
      "metadata": {
        "id": "PHM-5g8Qbp1B"
      },
      "outputs": [],
      "source": [
        "rus = RandomUnderSampler(random_state=1, sampling_strategy=1)\n",
        "X_train_un, y_train_un = rus.fit_resample(X_train, y_train)\n",
        "\n",
        "\n",
        "print(\"Before UnderSampling, counts of label '1': {}\".format(sum(y_train == 1)))\n",
        "print(\"Before UnderSampling, counts of label '0': {} \\n\".format(sum(y_train == 0)))\n",
        "\n",
        "\n",
        "print(\"After UnderSampling, counts of label '1': {}\".format(sum(y_train_un == 1)))\n",
        "print(\"After UnderSampling, counts of label '0': {} \\n\".format(sum(y_train_un == 0)))\n",
        "\n",
        "\n",
        "print(\"After UnderSampling, the shape of train_X: {}\".format(X_train_un.shape))\n",
        "print(\"After UnderSampling, the shape of train_y: {} \\n\".format(y_train_un.shape))"
      ]
    },
    {
      "cell_type": "code",
      "execution_count": null,
      "id": "Rc5ndPMubp1B",
      "metadata": {
        "id": "Rc5ndPMubp1B",
        "scrolled": true
      },
      "outputs": [],
      "source": [
        "models = []  # Empty list to store all the models\n",
        "\n",
        "# Appending models into the list\n",
        "models.append((\"Bagging\", BaggingClassifier(random_state=1)))\n",
        "models.append((\"Random forest\",'_____')) ## Complete the code to add Random Forest Classifier with random_state of 1.\n",
        "models.append((\"GBM\", '_____')) ## Complete the code to add Gradient Boosting Classifier with random_state of 1.\n",
        "models.append((\"Adaboost\", '_____')) ## Complete the code to add AdaBoost Classifier with random_state of 1.\n",
        "models.append((\"Xgboost\", XGBClassifier(random_state=1, eval_metric=\"logloss\")))\n",
        "models.append((\"dtree\", '_____')) ## Complete the code to add Decision Tree Classifier with random_state of 1.\n",
        "\n",
        "results1 = []  # Empty list to store all model's CV scores\n",
        "names = []  # Empty list to store name of the models\n",
        "\n",
        "\n",
        "# loop through all models to get the mean cross validated score\n",
        "print(\"\\n\" \"Cross-Validation performance on training dataset:\" \"\\n\")\n",
        "\n",
        "for name, model in models:\n",
        "    kfold = StratifiedKFold(\n",
        "        n_splits=_____, shuffle=True, random_state=1\n",
        "    )  ## Complete the code to set the number of splits\n",
        "    cv_result = cross_val_score(\n",
        "        estimator=model, X=X_train_un, y=y_train_un,scoring = scorer, cv=kfold,n_jobs =-1\n",
        "    )\n",
        "    results1.append(cv_result)\n",
        "    names.append(name)\n",
        "    print(\"{}: {}\".format(name, cv_result.mean()))\n",
        "\n",
        "print(\"\\n\" \"Validation Performance:\" \"\\n\")\n",
        "\n",
        "for name, model in models:\n",
        "    model.fit(_____,_____) ## Complete the code to fit the model on the undersampled data.\n",
        "    scores = _____(y_val, model.predict(X_val)) ## Complete the code to define the metric function name.\n",
        "    print(\"{}: {}\".format(name, scores))"
      ]
    },
    {
      "cell_type": "code",
      "execution_count": null,
      "id": "8HcDqaD2bp1B",
      "metadata": {
        "id": "8HcDqaD2bp1B",
        "scrolled": false
      },
      "outputs": [],
      "source": [
        "# Plotting boxplots for CV scores of all models defined above\n",
        "fig = plt.figure(figsize=(10, 7))\n",
        "\n",
        "fig.suptitle(\"Algorithm Comparison\")\n",
        "ax = fig.add_subplot(111)\n",
        "\n",
        "plt.boxplot(results1)\n",
        "ax.set_xticklabels(names)\n",
        "\n",
        "plt.show()"
      ]
    },
    {
      "cell_type": "markdown",
      "id": "Cg_OREBD1NOy",
      "metadata": {
        "id": "Cg_OREBD1NOy"
      },
      "source": [
        "## Hyperparameter Tuning"
      ]
    },
    {
      "cell_type": "markdown",
      "id": "2FtmPS7Ubp1D",
      "metadata": {
        "id": "2FtmPS7Ubp1D"
      },
      "source": [
        "### Tuning AdaBoost using oversampled data"
      ]
    },
    {
      "cell_type": "code",
      "execution_count": null,
      "id": "IPSlOlvkbp1D",
      "metadata": {
        "id": "IPSlOlvkbp1D"
      },
      "outputs": [],
      "source": [
        "%%time\n",
        "\n",
        "# defining model\n",
        "Model = AdaBoostClassifier(random_state=1)\n",
        "\n",
        "# Parameter grid to pass in RandomSearchCV\n",
        "param_grid = {\n",
        "    \"n_estimators\": [_____], ## Complete the code to set the number of estimators\n",
        "    \"learning_rate\": [_____], ## Complete the code to set the learning rate.\n",
        "    \"estimator\": [DecisionTreeClassifier(max_depth=1, random_state=1), DecisionTreeClassifier(max_depth=2, random_state=1), DecisionTreeClassifier(max_depth=3, random_state=1),\n",
        "    ]\n",
        "}\n",
        "\n",
        "\n",
        "#Calling RandomizedSearchCV\n",
        "randomized_cv = RandomizedSearchCV(estimator=Model, param_distributions=param_grid, n_iter=50, n_jobs = -1, scoring=scorer, cv=_____, random_state=1)  ## Complete the code to set the cv parameter\n",
        "\n",
        "#Fitting parameters in RandomizedSearchCV\n",
        "randomized_cv.fit(_____,_____) ## Complete the code to fit the model on over sampled data\n",
        "\n",
        "print(\"Best parameters are {} with CV score={}:\" .format(randomized_cv.best_params_,randomized_cv.best_score_))"
      ]
    },
    {
      "cell_type": "code",
      "execution_count": null,
      "id": "xhrOotEVFuN8",
      "metadata": {
        "id": "xhrOotEVFuN8"
      },
      "outputs": [],
      "source": [
        "## Complete the code to set the best parameters.\n",
        "tuned_ada = AdaBoostClassifier(\n",
        "    n_estimators= _____, learning_rate= _____, estimator= DecisionTreeClassifier(max_depth=_____, random_state=1)\n",
        ")\n",
        "\n",
        "tuned_ada.fit(X_train_over, y_train_over)"
      ]
    },
    {
      "cell_type": "code",
      "execution_count": null,
      "id": "kGRRtFcsFxZD",
      "metadata": {
        "id": "kGRRtFcsFxZD"
      },
      "outputs": [],
      "source": [
        "ada_train_perf = model_performance_classification_sklearn(tuned_ada, X_train_over, y_train_over)\n",
        "ada_train_perf"
      ]
    },
    {
      "cell_type": "code",
      "execution_count": null,
      "id": "10_dV5m4bp1D",
      "metadata": {
        "id": "10_dV5m4bp1D"
      },
      "outputs": [],
      "source": [
        "## Complete the code to check the model performance for validation data.\n",
        "ada_val_perf = model_performance_classification_sklearn(tuned_ada,_____,_____)\n",
        "ada_val_perf"
      ]
    },
    {
      "cell_type": "markdown",
      "id": "Dqj6dc38bp1E",
      "metadata": {
        "id": "Dqj6dc38bp1E"
      },
      "source": [
        "### Tuning Random forest using undersampled data"
      ]
    },
    {
      "cell_type": "code",
      "execution_count": null,
      "id": "9tLNoDYhbp1E",
      "metadata": {
        "id": "9tLNoDYhbp1E"
      },
      "outputs": [],
      "source": [
        "%%time\n",
        "\n",
        "# defining model\n",
        "Model = RandomForestClassifier(random_state=1)\n",
        "\n",
        "# Parameter grid to pass in RandomSearchCV\n",
        "param_grid = {\n",
        "    \"n_estimators\": [_____], ## Complete the code to set the number of estimators.\n",
        "    \"min_samples_leaf\": np.arange(_____,_____), ## Complete the code to set the minimum number of samples in the leaf node.\n",
        "    \"max_features\": [np.arange(_____,_____,_____),'sqrt'], ## Complete the code to set the maximum number of features.\n",
        "    \"max_samples\": np.arange(_____,_____,_____)} ## Complete the code to set the maximum number of samples.\n",
        "\n",
        "\n",
        "#Calling RandomizedSearchCV\n",
        "randomized_cv = RandomizedSearchCV(estimator=Model, param_distributions=param_grid, n_iter=50, n_jobs = -1, scoring=scorer, cv=_____, random_state=1) ## Complete the code to set the cv parameter\n",
        "\n",
        "#Fitting parameters in RandomizedSearchCV\n",
        "randomized_cv.fit(_____,_____) ## Complete the code to fit the model on under sampled data\n",
        "\n",
        "print(\"Best parameters are {} with CV score={}:\" .format(randomized_cv.best_params_,randomized_cv.best_score_))"
      ]
    },
    {
      "cell_type": "code",
      "execution_count": null,
      "id": "5kmoh9KMbp1E",
      "metadata": {
        "id": "5kmoh9KMbp1E"
      },
      "outputs": [],
      "source": [
        "# Complete the code to define the best model\n",
        "tuned_rf2 = RandomForestClassifier(\n",
        "    max_features=_____,\n",
        "    random_state=_____,\n",
        "    max_samples=_____,\n",
        "    n_estimators=_____,\n",
        "    min_samples_leaf=_____,\n",
        ")\n",
        "\n",
        "tuned_rf2.fit(X_train_un, y_train_un)"
      ]
    },
    {
      "cell_type": "code",
      "execution_count": null,
      "id": "bAAD5mzybp1E",
      "metadata": {
        "id": "bAAD5mzybp1E"
      },
      "outputs": [],
      "source": [
        "rf2_train_perf = model_performance_classification_sklearn(\n",
        "    tuned_rf2, X_train_un, y_train_un\n",
        ")\n",
        "rf2_train_perf"
      ]
    },
    {
      "cell_type": "code",
      "execution_count": null,
      "id": "WTtYpzO-bp1E",
      "metadata": {
        "id": "WTtYpzO-bp1E",
        "scrolled": true
      },
      "outputs": [],
      "source": [
        "## Complete the code to print the model performance on the validation data.\n",
        "rf2_val_perf = model_performance_classification_sklearn(tuned_rf2,_____,_____)\n",
        "rf2_val_perf"
      ]
    },
    {
      "cell_type": "markdown",
      "id": "0uLE_tPV2Roq",
      "metadata": {
        "id": "0uLE_tPV2Roq"
      },
      "source": [
        "### Tuning with Gradient boosting with oversampled data"
      ]
    },
    {
      "cell_type": "code",
      "execution_count": null,
      "id": "ikBgsbjn2RHu",
      "metadata": {
        "id": "ikBgsbjn2RHu"
      },
      "outputs": [],
      "source": [
        "%%time\n",
        "\n",
        "# defining model\n",
        "Model = GradientBoostingClassifier(random_state=1)\n",
        "\n",
        "## Complete the code to define the hyper parameters.\n",
        "param_grid={\"n_estimators\": np.arange(_____,_____,_____), \"learning_rate\": [_____], \"subsample\":[_____,_____], \"max_features\":[_____,_____]}\n",
        "\n",
        "## Complete the code to set the cv parameter.\n",
        "randomized_cv = RandomizedSearchCV(estimator=Model, param_distributions=param_grid, scoring=scorer, n_iter=50, n_jobs = -1, cv=_____, random_state=1)\n",
        "\n",
        "#Fitting parameters in RandomizedSearchCV\n",
        "randomized_cv.fit(X_train_over, y_train_over)\n",
        "\n",
        "print(\"Best parameters are {} with CV score={}:\" .format(randomized_cv.best_params_,randomized_cv.best_score_))"
      ]
    },
    {
      "cell_type": "code",
      "execution_count": null,
      "id": "o0sxrmnx2Q9S",
      "metadata": {
        "id": "o0sxrmnx2Q9S"
      },
      "outputs": [],
      "source": [
        "## Complete the code to define the best model.\n",
        "tuned_gbm = GradientBoostingClassifier(\n",
        "    max_features=_____,\n",
        "    random_state=_____,\n",
        "    learning_rate=_____,\n",
        "    n_estimators=_____,\n",
        "    subsample=_____\n",
        ")\n",
        "\n",
        "tuned_gbm.fit(X_train_over, y_train_over)"
      ]
    },
    {
      "cell_type": "code",
      "execution_count": null,
      "id": "fXkAXXum2Q0-",
      "metadata": {
        "id": "fXkAXXum2Q0-"
      },
      "outputs": [],
      "source": [
        "gbm_train_perf = model_performance_classification_sklearn(\n",
        "    tuned_gbm, X_train_over, y_train_over\n",
        ")\n",
        "gbm_train_perf"
      ]
    },
    {
      "cell_type": "code",
      "execution_count": null,
      "id": "ZF3y7Jl12Qi-",
      "metadata": {
        "id": "ZF3y7Jl12Qi-"
      },
      "outputs": [],
      "source": [
        "## Complete the code to print the model performance on the validation data.\n",
        "gbm_val_perf = model_performance_classification_sklearn(tuned_gbm,_____,_____)\n",
        "gbm_val_perf"
      ]
    },
    {
      "cell_type": "markdown",
      "id": "VbrQHwrKbp1C",
      "metadata": {
        "id": "VbrQHwrKbp1C"
      },
      "source": [
        "### Tuning XGBoost using oversampled data"
      ]
    },
    {
      "cell_type": "code",
      "execution_count": null,
      "id": "ec8e6iVzbp1C",
      "metadata": {
        "id": "ec8e6iVzbp1C"
      },
      "outputs": [],
      "source": [
        "%%time\n",
        "\n",
        "# defining model\n",
        "Model = XGBClassifier(random_state=1,eval_metric='logloss')\n",
        "\n",
        "## Complete the code to define the hyperparameters\n",
        "param_grid={'n_estimators':[_____],'scale_pos_weight':[_____], 'learning_rate':[_____], 'gamma':[_____], 'subsample':[_____]}\n",
        "\n",
        "## Complete the code to set the cv parameter\n",
        "randomized_cv = RandomizedSearchCV(estimator=Model, param_distributions=param_grid, n_iter=50, n_jobs = -1, scoring=scorer, cv=_____, random_state=1)\n",
        "\n",
        "#Fitting parameters in RandomizedSearchCV\n",
        "randomized_cv.fit(X_train_over,y_train_over)## Complete the code to fit the model on over sampled data\n",
        "\n",
        "print(\"Best parameters are {} with CV score={}:\" .format(randomized_cv.best_params_,randomized_cv.best_score_))"
      ]
    },
    {
      "cell_type": "code",
      "execution_count": null,
      "id": "NSio3khJbp1C",
      "metadata": {
        "id": "NSio3khJbp1C",
        "scrolled": true
      },
      "outputs": [],
      "source": [
        "## Complete the code to define the best model\n",
        "xgb2 = XGBClassifier(\n",
        "    random_state=1,\n",
        "    eval_metric=_____,\n",
        "    subsample=_____,\n",
        "    scale_pos_weight=_____,\n",
        "    n_estimators=_____,\n",
        "    learning_rate=_____,\n",
        "    gamma=_____,\n",
        ")\n",
        "\n",
        "xgb2.fit(X_train_over, y_train_over)"
      ]
    },
    {
      "cell_type": "code",
      "execution_count": null,
      "id": "hDzHR8Pwbp1D",
      "metadata": {
        "id": "hDzHR8Pwbp1D"
      },
      "outputs": [],
      "source": [
        "xgb2_train_perf = model_performance_classification_sklearn(\n",
        "    xgb2, X_train_over, y_train_over\n",
        ")\n",
        "xgb2_train_perf"
      ]
    },
    {
      "cell_type": "code",
      "execution_count": null,
      "id": "jiDRsOrMbp1D",
      "metadata": {
        "id": "jiDRsOrMbp1D",
        "scrolled": false
      },
      "outputs": [],
      "source": [
        "## Complete the code to print the model performance on the validation data.\n",
        "xgb2_val_perf = model_performance_classification_sklearn(xgb2,_____,_____)\n",
        "xgb2_val_perf"
      ]
    },
    {
      "cell_type": "markdown",
      "id": "4fyp5xd91Z-W",
      "metadata": {
        "id": "4fyp5xd91Z-W"
      },
      "source": [
        "**We have now tuned all the models, let's compare the performance of all tuned models and see which one is the best.**"
      ]
    },
    {
      "cell_type": "markdown",
      "id": "D9JNnpxa4jau",
      "metadata": {
        "id": "D9JNnpxa4jau"
      },
      "source": [
        "## Model performance comparison and choosing the final model"
      ]
    },
    {
      "cell_type": "code",
      "execution_count": null,
      "id": "TF1WfZZHbp1E",
      "metadata": {
        "id": "TF1WfZZHbp1E"
      },
      "outputs": [],
      "source": [
        "# training performance comparison\n",
        "\n",
        "models_train_comp_df = pd.concat(\n",
        "    [\n",
        "        gbm_train_perf.T,\n",
        "        xgb2_train_perf.T,\n",
        "        ada_train_perf.T,\n",
        "        rf2_train_perf.T,\n",
        "    ],\n",
        "    axis=1,\n",
        ")\n",
        "models_train_comp_df.columns = [\n",
        "    \"Gradient Boosting tuned with oversampled data\",\n",
        "    \"XGBoost tuned with oversampled data\",\n",
        "    \"AdaBoost tuned with oversampled data\",\n",
        "    \"Random forest tuned with undersampled data\",\n",
        "]\n",
        "print(\"Training performance comparison:\")\n",
        "models_train_comp_df"
      ]
    },
    {
      "cell_type": "code",
      "execution_count": null,
      "id": "0FgTXpsXbp1F",
      "metadata": {
        "id": "0FgTXpsXbp1F"
      },
      "outputs": [],
      "source": [
        "# validation performance comparison\n",
        "\n",
        "models_val_comp_df = pd.concat(\n",
        "    [\n",
        "        gbm_val_perf.T,\n",
        "        xgb2_val_perf.T,\n",
        "        ada_val_perf.T,\n",
        "        rf2_val_perf.T,\n",
        "    ],\n",
        "    axis=1,\n",
        ")\n",
        "models_val_comp_df.columns = [\n",
        "    \"Gradient Boosting tuned with oversampled data\",\n",
        "    \"XGBoost tuned with oversampled data\",\n",
        "    \"AdaBoost tuned with oversampled data\",\n",
        "    \"Random forest tuned with undersampled data\",\n",
        "]\n",
        "print(\"Validation performance comparison:\")\n",
        "models_val_comp_df"
      ]
    },
    {
      "cell_type": "code",
      "execution_count": null,
      "id": "qrWw_SWBkJtV",
      "metadata": {
        "id": "qrWw_SWBkJtV"
      },
      "outputs": [],
      "source": [
        "## Complete the code to print the model performance on the test data by the best model.\n",
        "test = model_performance_classification_sklearn(_____, X_test, y_test)\n",
        "test"
      ]
    },
    {
      "cell_type": "code",
      "execution_count": null,
      "id": "tlY4dfMuVBUz",
      "metadata": {
        "id": "tlY4dfMuVBUz"
      },
      "outputs": [],
      "source": [
        "feature_names = X_train.columns\n",
        "importances = _____.feature_importances_ ## Complete the code to print the feature importances from the best model.\n",
        "indices = np.argsort(importances)\n",
        "\n",
        "plt.figure(figsize=(12, 12))\n",
        "plt.title(\"Feature Importances\")\n",
        "plt.barh(range(len(indices)), importances[indices], color=\"violet\", align=\"center\")\n",
        "plt.yticks(range(len(indices)), [feature_names[i] for i in indices])\n",
        "plt.xlabel(\"Relative Importance\")\n",
        "plt.show()"
      ]
    },
    {
      "cell_type": "markdown",
      "id": "congressional-knock",
      "metadata": {
        "id": "congressional-knock"
      },
      "source": [
        "## Actionable Insights and Recommendations"
      ]
    },
    {
      "cell_type": "markdown",
      "id": "Y2HdXLmSJi8K",
      "metadata": {
        "id": "Y2HdXLmSJi8K"
      },
      "source": [
        "<font size=6 color='blue'>Power Ahead</font>\n",
        "___"
      ]
    }
  ],
  "metadata": {
    "colab": {
      "collapsed_sections": [
        "yZvo8CHcetWN",
        "empty-shanghai",
        "3CWyKzKYAfEp",
        "LpNqj6EzAhxy",
        "Lm7obbsV_RUT",
        "thorough-passion",
        "mq-1s9p-_aKl",
        "aboriginal-wrist",
        "accessory-camel",
        "assigned-berkeley",
        "standing-horizontal",
        "american-venue",
        "competent-timing",
        "cutting-bookmark",
        "wooden-christian",
        "editorial-command",
        "attempted-burlington",
        "forbidden-kidney",
        "stunning-surrey",
        "equivalent-aging",
        "dressed-excuse",
        "attended-current",
        "macro-decrease",
        "changing-kansas",
        "lesser-bacteria",
        "suspected-asthma",
        "qBWlk20UBUAx",
        "allied-association",
        "flexible-independence",
        "rrlw9AVcqk37",
        "0QZZoxoDcoDm",
        "4fI98GOV0pTY",
        "C91_6Swtbp1A",
        "fYLfDmHvbp1B",
        "Cg_OREBD1NOy",
        "2FtmPS7Ubp1D",
        "Dqj6dc38bp1E",
        "0uLE_tPV2Roq",
        "VbrQHwrKbp1C",
        "D9JNnpxa4jau",
        "congressional-knock"
      ],
      "provenance": [],
      "include_colab_link": true
    },
    "kernelspec": {
      "display_name": "Python 3",
      "name": "python3"
    },
    "language_info": {
      "codemirror_mode": {
        "name": "ipython",
        "version": 3
      },
      "file_extension": ".py",
      "mimetype": "text/x-python",
      "name": "python",
      "nbconvert_exporter": "python",
      "pygments_lexer": "ipython3",
      "version": "3.8.8"
    }
  },
  "nbformat": 4,
  "nbformat_minor": 5
}